{
 "cells": [
  {
   "cell_type": "markdown",
   "id": "73ced697-8258-4420-8c0b-57c4ef530d8a",
   "metadata": {},
   "source": [
    "Import basic libraries"
   ]
  },
  {
   "cell_type": "code",
   "execution_count": 1,
   "id": "1527b28f-128c-426c-9948-aeeb17517964",
   "metadata": {},
   "outputs": [],
   "source": [
    "import pandas as pd\n",
    "\n",
    "import numpy as np"
   ]
  },
  {
   "cell_type": "markdown",
   "id": "36a9b256-26ef-4a77-8bd1-0ed918d2bfac",
   "metadata": {},
   "source": [
    "Import the Dataset"
   ]
  },
  {
   "cell_type": "code",
   "execution_count": 2,
   "id": "cc1122f1-d00c-430f-8dd5-87e2e0fac634",
   "metadata": {},
   "outputs": [
    {
     "data": {
      "text/html": [
       "<div>\n",
       "<style scoped>\n",
       "    .dataframe tbody tr th:only-of-type {\n",
       "        vertical-align: middle;\n",
       "    }\n",
       "\n",
       "    .dataframe tbody tr th {\n",
       "        vertical-align: top;\n",
       "    }\n",
       "\n",
       "    .dataframe thead th {\n",
       "        text-align: right;\n",
       "    }\n",
       "</style>\n",
       "<table border=\"1\" class=\"dataframe\">\n",
       "  <thead>\n",
       "    <tr style=\"text-align: right;\">\n",
       "      <th></th>\n",
       "      <th>ID</th>\n",
       "      <th>Age</th>\n",
       "      <th>Experience</th>\n",
       "      <th>Income</th>\n",
       "      <th>ZIP Code</th>\n",
       "      <th>Family</th>\n",
       "      <th>CCAvg</th>\n",
       "      <th>Education</th>\n",
       "      <th>Mortgage</th>\n",
       "      <th>Personal Loan</th>\n",
       "      <th>Securities Account</th>\n",
       "      <th>CD Account</th>\n",
       "      <th>Online</th>\n",
       "      <th>CreditCard</th>\n",
       "    </tr>\n",
       "  </thead>\n",
       "  <tbody>\n",
       "    <tr>\n",
       "      <th>0</th>\n",
       "      <td>1</td>\n",
       "      <td>25</td>\n",
       "      <td>1</td>\n",
       "      <td>49</td>\n",
       "      <td>91107</td>\n",
       "      <td>4</td>\n",
       "      <td>1.6</td>\n",
       "      <td>1</td>\n",
       "      <td>0</td>\n",
       "      <td>0</td>\n",
       "      <td>1</td>\n",
       "      <td>0</td>\n",
       "      <td>0</td>\n",
       "      <td>0</td>\n",
       "    </tr>\n",
       "    <tr>\n",
       "      <th>1</th>\n",
       "      <td>2</td>\n",
       "      <td>45</td>\n",
       "      <td>19</td>\n",
       "      <td>34</td>\n",
       "      <td>90089</td>\n",
       "      <td>3</td>\n",
       "      <td>1.5</td>\n",
       "      <td>1</td>\n",
       "      <td>0</td>\n",
       "      <td>0</td>\n",
       "      <td>1</td>\n",
       "      <td>0</td>\n",
       "      <td>0</td>\n",
       "      <td>0</td>\n",
       "    </tr>\n",
       "    <tr>\n",
       "      <th>2</th>\n",
       "      <td>3</td>\n",
       "      <td>39</td>\n",
       "      <td>15</td>\n",
       "      <td>11</td>\n",
       "      <td>94720</td>\n",
       "      <td>1</td>\n",
       "      <td>1.0</td>\n",
       "      <td>1</td>\n",
       "      <td>0</td>\n",
       "      <td>0</td>\n",
       "      <td>0</td>\n",
       "      <td>0</td>\n",
       "      <td>0</td>\n",
       "      <td>0</td>\n",
       "    </tr>\n",
       "    <tr>\n",
       "      <th>3</th>\n",
       "      <td>4</td>\n",
       "      <td>35</td>\n",
       "      <td>9</td>\n",
       "      <td>100</td>\n",
       "      <td>94112</td>\n",
       "      <td>1</td>\n",
       "      <td>2.7</td>\n",
       "      <td>2</td>\n",
       "      <td>0</td>\n",
       "      <td>0</td>\n",
       "      <td>0</td>\n",
       "      <td>0</td>\n",
       "      <td>0</td>\n",
       "      <td>0</td>\n",
       "    </tr>\n",
       "    <tr>\n",
       "      <th>4</th>\n",
       "      <td>5</td>\n",
       "      <td>35</td>\n",
       "      <td>8</td>\n",
       "      <td>45</td>\n",
       "      <td>91330</td>\n",
       "      <td>4</td>\n",
       "      <td>1.0</td>\n",
       "      <td>2</td>\n",
       "      <td>0</td>\n",
       "      <td>0</td>\n",
       "      <td>0</td>\n",
       "      <td>0</td>\n",
       "      <td>0</td>\n",
       "      <td>1</td>\n",
       "    </tr>\n",
       "  </tbody>\n",
       "</table>\n",
       "</div>"
      ],
      "text/plain": [
       "   ID  Age  Experience  Income  ZIP Code  Family  CCAvg  Education  Mortgage  \\\n",
       "0   1   25           1      49     91107       4    1.6          1         0   \n",
       "1   2   45          19      34     90089       3    1.5          1         0   \n",
       "2   3   39          15      11     94720       1    1.0          1         0   \n",
       "3   4   35           9     100     94112       1    2.7          2         0   \n",
       "4   5   35           8      45     91330       4    1.0          2         0   \n",
       "\n",
       "   Personal Loan  Securities Account  CD Account  Online  CreditCard  \n",
       "0              0                   1           0       0           0  \n",
       "1              0                   1           0       0           0  \n",
       "2              0                   0           0       0           0  \n",
       "3              0                   0           0       0           0  \n",
       "4              0                   0           0       0           1  "
      ]
     },
     "execution_count": 2,
     "metadata": {},
     "output_type": "execute_result"
    }
   ],
   "source": [
    "bank_df = pd.read_csv(\"Bank_Personal_Loan_Modelling.csv\")\n",
    "bank_df.head()"
   ]
  },
  {
   "cell_type": "markdown",
   "id": "2e4f1dcc-e150-40d7-ba72-1b4b10a38f8a",
   "metadata": {},
   "source": [
    "Show if the dataset has any missing values"
   ]
  },
  {
   "cell_type": "code",
   "execution_count": 3,
   "id": "d4dcd788-a9b6-4392-996f-02add034dde5",
   "metadata": {},
   "outputs": [
    {
     "data": {
      "text/plain": [
       "ID                    0\n",
       "Age                   0\n",
       "Experience            0\n",
       "Income                0\n",
       "ZIP Code              0\n",
       "Family                0\n",
       "CCAvg                 0\n",
       "Education             0\n",
       "Mortgage              0\n",
       "Personal Loan         0\n",
       "Securities Account    0\n",
       "CD Account            0\n",
       "Online                0\n",
       "CreditCard            0\n",
       "dtype: int64"
      ]
     },
     "execution_count": 3,
     "metadata": {},
     "output_type": "execute_result"
    }
   ],
   "source": [
    "bank_df.isna().sum().sort_values()"
   ]
  },
  {
   "cell_type": "markdown",
   "id": "08029db6-8015-4972-9c31-fc9b9c8e578a",
   "metadata": {},
   "source": [
    "Work on the experience column to remove negetive values using their absolute values"
   ]
  },
  {
   "cell_type": "code",
   "execution_count": 4,
   "id": "bac16069-6148-453f-87cb-874e1530dcac",
   "metadata": {},
   "outputs": [
    {
     "data": {
      "text/plain": [
       "array([ 1, 19, 15,  9,  8, 13, 27, 24, 10, 39,  5, 23, 32, 41, 30, 14, 18,\n",
       "       21, 28, 31, 11, 16, 20, 35,  6, 25,  7, 12, 26, 37, 17,  2, 36, 29,\n",
       "        3, 22, -1, 34,  0, 38, 40, 33,  4, -2, 42, -3, 43], dtype=int64)"
      ]
     },
     "execution_count": 4,
     "metadata": {},
     "output_type": "execute_result"
    }
   ],
   "source": [
    "bank_df[\"Experience\"].unique()"
   ]
  },
  {
   "cell_type": "code",
   "execution_count": 5,
   "id": "cdf135fa-ebda-4530-b821-fcc2376918cc",
   "metadata": {},
   "outputs": [],
   "source": [
    "bank_df[\"Experience\"] = abs(bank_df['Experience'])"
   ]
  },
  {
   "cell_type": "code",
   "execution_count": 6,
   "id": "53654043-9d63-4662-b45a-10dadd5f23bd",
   "metadata": {},
   "outputs": [
    {
     "data": {
      "text/plain": [
       "array([ 1, 19, 15,  9,  8, 13, 27, 24, 10, 39,  5, 23, 32, 41, 30, 14, 18,\n",
       "       21, 28, 31, 11, 16, 20, 35,  6, 25,  7, 12, 26, 37, 17,  2, 36, 29,\n",
       "        3, 22, 34,  0, 38, 40, 33,  4, 42, 43], dtype=int64)"
      ]
     },
     "execution_count": 6,
     "metadata": {},
     "output_type": "execute_result"
    }
   ],
   "source": [
    "bank_df[\"Experience\"].unique()"
   ]
  },
  {
   "cell_type": "markdown",
   "id": "ccc8b2ec-a335-404e-b70c-0617545d7a05",
   "metadata": {},
   "source": [
    "Models"
   ]
  },
  {
   "cell_type": "markdown",
   "id": "22798505-f42d-41ba-8884-8d77c1c5798d",
   "metadata": {},
   "source": [
    "A: Import the nessesary libiraries"
   ]
  },
  {
   "cell_type": "code",
   "execution_count": 7,
   "id": "7d5680ef-daa4-47e2-9afe-04bef5a46d1a",
   "metadata": {},
   "outputs": [],
   "source": [
    "# train_test_split\n",
    "from sklearn.model_selection import train_test_split\n",
    "\n",
    "# Logistic regression\n",
    "from sklearn.linear_model import LogisticRegression\n",
    "\n",
    "# K neirest neighbors\n",
    "from sklearn.neighbors import KNeighborsClassifier\n",
    "\n",
    "#confusion matrix\n",
    "from sklearn.metrics import confusion_matrix"
   ]
  },
  {
   "cell_type": "markdown",
   "id": "287b45f9-3e12-411f-9e42-b0061e08065c",
   "metadata": {},
   "source": [
    "1: Logistic regression"
   ]
  },
  {
   "cell_type": "code",
   "execution_count": 8,
   "id": "c302acdc-327c-4544-ba6e-ea8998cf7553",
   "metadata": {},
   "outputs": [],
   "source": [
    "# Set the target and feature variables\n",
    "X = bank_df.drop(\"Personal Loan\", axis=1).values\n",
    "\n",
    "y = bank_df[\"Personal Loan\"].values\n",
    "\n",
    "# split the data\n",
    "\n",
    "X_train, X_test, y_train, y_test = train_test_split(X, y, test_size=0.2, random_state=42)"
   ]
  },
  {
   "cell_type": "code",
   "execution_count": 9,
   "id": "525be713-7d37-402a-b324-e6ee3a53860e",
   "metadata": {},
   "outputs": [
    {
     "name": "stdout",
     "output_type": "stream",
     "text": [
      "The accuracy score for the logistic regression model = 0.908\n",
      "The confusion matrix: \n",
      "[[874  21]\n",
      " [ 71  34]]\n"
     ]
    },
    {
     "name": "stderr",
     "output_type": "stream",
     "text": [
      "C:\\Users\\ahmed\\anaconda3\\Lib\\site-packages\\sklearn\\linear_model\\_logistic.py:469: ConvergenceWarning: lbfgs failed to converge (status=1):\n",
      "STOP: TOTAL NO. of ITERATIONS REACHED LIMIT.\n",
      "\n",
      "Increase the number of iterations (max_iter) or scale the data as shown in:\n",
      "    https://scikit-learn.org/stable/modules/preprocessing.html\n",
      "Please also refer to the documentation for alternative solver options:\n",
      "    https://scikit-learn.org/stable/modules/linear_model.html#logistic-regression\n",
      "  n_iter_i = _check_optimize_result(\n"
     ]
    }
   ],
   "source": [
    "# Make the Logistic regression object\n",
    "logreg_mdl = LogisticRegression()\n",
    "\n",
    "# fit the model\n",
    "logreg_mdl.fit(X_train, y_train)\n",
    "\n",
    "# predect X_test\n",
    "logreg_mdl_y_pred = logreg_mdl.predict(X_test)\n",
    "\n",
    "# Get the Accuracy score\n",
    "logreg_mdl_acc_score = logreg_mdl.score(X_test, y_test)\n",
    "\n",
    "# Print the Accuracy score\n",
    "print(f\"The accuracy score for the logistic regression model = {logreg_mdl_acc_score}\")\n",
    "\n",
    "# Make the confusion matrix\n",
    "logreg_mdl_conf_matrix = confusion_matrix(y_test, logreg_mdl_y_pred)\n",
    "\n",
    "# print the confusion matrix\n",
    "print(f\"The confusion matrix: \\n{logreg_mdl_conf_matrix}\")"
   ]
  },
  {
   "cell_type": "markdown",
   "id": "3f153d1a-52e8-497c-8093-dc0751c13111",
   "metadata": {},
   "source": [
    "2: KNN"
   ]
  },
  {
   "cell_type": "code",
   "execution_count": 10,
   "id": "42a43a32-2a62-4d54-8a01-0be8e8a018bf",
   "metadata": {},
   "outputs": [],
   "source": [
    "# Set the target and feature variables\n",
    "X = bank_df.drop(\"Personal Loan\", axis=1).values\n",
    "\n",
    "y = bank_df[\"Personal Loan\"].values\n",
    "\n",
    "# split the data\n",
    "\n",
    "X_train, X_test, y_train, y_test = train_test_split(X, y, test_size=0.2, random_state=42)"
   ]
  },
  {
   "cell_type": "code",
   "execution_count": 11,
   "id": "cabe171b-1635-486d-8a01-4745520388a9",
   "metadata": {},
   "outputs": [
    {
     "name": "stdout",
     "output_type": "stream",
     "text": [
      "The number of neibors = 1 and it's accuracy score = 0.872\n",
      "The number of neibors = 2 and it's accuracy score = 0.893\n",
      "The number of neibors = 3 and it's accuracy score = 0.89\n",
      "The number of neibors = 4 and it's accuracy score = 0.896\n",
      "The number of neibors = 5 and it's accuracy score = 0.896\n",
      "The number of neibors = 6 and it's accuracy score = 0.895\n",
      "The number of neibors = 7 and it's accuracy score = 0.895\n",
      "The number of neibors = 8 and it's accuracy score = 0.895\n",
      "The number of neibors = 9 and it's accuracy score = 0.895\n",
      "The number of neibors = 10 and it's accuracy score = 0.895\n",
      "The number of neibors = 11 and it's accuracy score = 0.895\n",
      "The number of neibors = 12 and it's accuracy score = 0.895\n",
      "The number of neibors = 13 and it's accuracy score = 0.895\n",
      "The number of neibors = 14 and it's accuracy score = 0.895\n",
      "The number of neibors = 15 and it's accuracy score = 0.895\n",
      "The number of neibors = 16 and it's accuracy score = 0.895\n",
      "The number of neibors = 17 and it's accuracy score = 0.895\n",
      "The number of neibors = 18 and it's accuracy score = 0.895\n",
      "The number of neibors = 19 and it's accuracy score = 0.895\n",
      "The number of neibors = 20 and it's accuracy score = 0.895\n"
     ]
    }
   ],
   "source": [
    "for k in range(1, 21):\n",
    "    # Make the KNeighborsClassifier object\n",
    "    knn_mdl = KNeighborsClassifier(n_neighbors=k)\n",
    "\n",
    "    # fit the model\n",
    "    knn_mdl.fit(X_train, y_train)\n",
    "    \n",
    "    # predect X_test\n",
    "    knn_mdl_y_pred = knn_mdl.predict(X_test)\n",
    "    \n",
    "    # Get the Accuracy score\n",
    "    knn_mdl_acc_score = knn_mdl.score(X_test, y_test)\n",
    "    \n",
    "    # Print the Accuracy score\n",
    "    print(f\"The number of neibors = {k} and it's accuracy score = {knn_mdl_acc_score}\")"
   ]
  },
  {
   "cell_type": "code",
   "execution_count": 12,
   "id": "9666f8f7-52b0-465d-a1fd-845be8903817",
   "metadata": {},
   "outputs": [
    {
     "name": "stdout",
     "output_type": "stream",
     "text": [
      "The number of neibors = 5 and it's accuracy score = 0.896\n",
      "The confusion matrix: \n",
      "[[893   2]\n",
      " [102   3]]\n"
     ]
    }
   ],
   "source": [
    "# Make the KNeighborsClassifier object\n",
    "knn_mdl = KNeighborsClassifier(n_neighbors=5)\n",
    "\n",
    "# fit the model\n",
    "knn_mdl.fit(X_train, y_train)\n",
    "\n",
    "# predect X_test\n",
    "knn_mdl_y_pred = knn_mdl.predict(X_test)\n",
    "\n",
    "# Get the Accuracy score\n",
    "knn_mdl_acc_score = knn_mdl.score(X_test, y_test)\n",
    "\n",
    "# Print the Accuracy score\n",
    "print(f\"The number of neibors = 5 and it's accuracy score = {knn_mdl_acc_score}\")\n",
    "\n",
    "# Make the confusion matrix\n",
    "knn_mdl_conf_matrix = confusion_matrix(y_test, knn_mdl_y_pred)\n",
    "\n",
    "# print the confusion matrix\n",
    "print(f\"The confusion matrix: \\n{knn_mdl_conf_matrix}\")"
   ]
  },
  {
   "cell_type": "code",
   "execution_count": null,
   "id": "6ba1e43d-fb25-4b4b-b960-0a964b15d4a8",
   "metadata": {},
   "outputs": [],
   "source": []
  }
 ],
 "metadata": {
  "kernelspec": {
   "display_name": "Python 3 (ipykernel)",
   "language": "python",
   "name": "python3"
  },
  "language_info": {
   "codemirror_mode": {
    "name": "ipython",
    "version": 3
   },
   "file_extension": ".py",
   "mimetype": "text/x-python",
   "name": "python",
   "nbconvert_exporter": "python",
   "pygments_lexer": "ipython3",
   "version": "3.12.7"
  }
 },
 "nbformat": 4,
 "nbformat_minor": 5
}
